{
    "cells": [
        {
            "cell_type": "markdown",
            "metadata": {
                "collapsed": true
            },
            "source": "<h2>Introduction</h2>"
        },
        {
            "cell_type": "markdown",
            "metadata": {},
            "source": "*Paris is the capital and largest city of France and the capital of the \u00cele-de-France region. It is the political and cultural center of France. It has 20 districts conjugated according to its development history. There have been no major changes since the 1860s. As of 2011, the population of Paris is more than 2.25 million, and the population of the Paris metropolitan area is more than 12.29 million, which is one of the largest metropolitan areas in Europe. Paris is the largest urban economy in Europe and the sixth largest urban economy in the world. All this brings fierce competition.*"
        },
        {
            "cell_type": "markdown",
            "metadata": {},
            "source": "<h2>Business problem</h2>\nHow can it bring an advantage to an unknown restaurant with the location? I think 2 points are very important 1st:There are enough customers around him In this question, we will assume that the main source of customers comes from schools and companies. At the same time, the convenient announcement traffic can also make the restaurant have more passenger flow 2nd:Competition around will not be very fierce"
        },
        {
            "cell_type": "code",
            "execution_count": null,
            "metadata": {},
            "outputs": [],
            "source": ""
        }
    ],
    "metadata": {
        "kernelspec": {
            "display_name": "Python 3.6",
            "language": "python",
            "name": "python3"
        },
        "language_info": {
            "codemirror_mode": {
                "name": "ipython",
                "version": 3
            },
            "file_extension": ".py",
            "mimetype": "text/x-python",
            "name": "python",
            "nbconvert_exporter": "python",
            "pygments_lexer": "ipython3",
            "version": "3.6.9"
        }
    },
    "nbformat": 4,
    "nbformat_minor": 1
}